{
  "nbformat": 4,
  "nbformat_minor": 0,
  "metadata": {
    "colab": {
      "provenance": [],
      "authorship_tag": "ABX9TyNVWEI8y4e8RQrR50n9x1uN",
      "include_colab_link": true
    },
    "kernelspec": {
      "name": "python3",
      "display_name": "Python 3"
    },
    "language_info": {
      "name": "python"
    }
  },
  "cells": [
    {
      "cell_type": "markdown",
      "metadata": {
        "id": "view-in-github",
        "colab_type": "text"
      },
      "source": [
        "<a href=\"https://colab.research.google.com/github/jarol19/Prog_Agro_2025_2/blob/main/tomando_desisiones_semana_2_y_3.ipynb\" target=\"_parent\"><img src=\"https://colab.research.google.com/assets/colab-badge.svg\" alt=\"Open In Colab\"/></a>"
      ]
    },
    {
      "cell_type": "code",
      "execution_count": null,
      "metadata": {
        "id": "tu2HPnplvsfF"
      },
      "outputs": [],
      "source": []
    },
    {
      "cell_type": "markdown",
      "source": [
        "#  Situación de Interés en Ingeniería Agrícola fi:\n",
        "\n",
        "1. Se está diseñando el software para un sistema de\n",
        "riego “inteligente”.\n",
        "2.  El programa debe leer el nivel de humedad actual del suelo (un valor de 0 a 100)y decidir qué acción tomar:\n",
        "> no hacer nada,\n",
        "> aplicar un riego ligero o\n",
        "> aplicar un riego profundo, según\n",
        "umbrales predefinidos."
      ],
      "metadata": {
        "id": "pUVaVHfnxPAt"
      }
    },
    {
      "cell_type": "code",
      "source": [
        "# Caso de Ingeniería Agrícola: Lógica de Riego Inteligente (if/elif/else)\n",
        "# Definir los umbrales de humedad\n",
        "# (ej. por debajo de 30% es seco, entre 30% y 70% es óptimo, por encima de 70% es saturado).\n",
        "\n",
        "# Pedir al usuario el nivel de humedad actual.\n",
        "humedad_actual = float(input(\"Ingrese el nivel de humedad actual (en porcentaje): \"))\n",
        "if humedad_actual < 30:\n",
        "    print(\"El suelo está seco. Aplicar riego ligero.\")\n",
        "elif humedad_actual >= 30 and humedad_actual <= 70:\n",
        "    print(\"El suelo está óptimo. No es necesario riego.\")\n",
        "else:\n",
        "    print(\"El suelo está saturado. es nesesario aplicar drenaje.\")"
      ],
      "metadata": {
        "colab": {
          "base_uri": "https://localhost:8080/"
        },
        "id": "7B9FrxVsyWsc",
        "outputId": "e673e8a9-6df6-4d50-fd1e-87adfcc2a971"
      },
      "execution_count": 3,
      "outputs": [
        {
          "output_type": "stream",
          "name": "stdout",
          "text": [
            "Ingrese el nivel de humedad actual (en porcentaje): 100\n",
            "El suelo está saturado. es nesesario aplicar drenaje.\n"
          ]
        }
      ]
    },
    {
      "cell_type": "code",
      "source": [],
      "metadata": {
        "id": "R25zEL_z3Lo9"
      },
      "execution_count": 2,
      "outputs": []
    }
  ]
}