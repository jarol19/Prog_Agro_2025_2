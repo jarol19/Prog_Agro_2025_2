{
  "nbformat": 4,
  "nbformat_minor": 0,
  "metadata": {
    "colab": {
      "provenance": [],
      "authorship_tag": "ABX9TyO8PuebH7asSBcfAhCMsYKu",
      "include_colab_link": true
    },
    "kernelspec": {
      "name": "python3",
      "display_name": "Python 3"
    },
    "language_info": {
      "name": "python"
    }
  },
  "cells": [
    {
      "cell_type": "markdown",
      "metadata": {
        "id": "view-in-github",
        "colab_type": "text"
      },
      "source": [
        "<a href=\"https://colab.research.google.com/github/jarol19/Prog_Agro_2025_2/blob/main/tomando_desisiones_semana_2_y_3.ipynb\" target=\"_parent\"><img src=\"https://colab.research.google.com/assets/colab-badge.svg\" alt=\"Open In Colab\"/></a>"
      ]
    },
    {
      "cell_type": "code",
      "execution_count": null,
      "metadata": {
        "id": "tu2HPnplvsfF"
      },
      "outputs": [],
      "source": []
    },
    {
      "cell_type": "markdown",
      "source": [
        "#  Situación de Interés en Ingeniería Agrícola fi:\n",
        "\n",
        "1. Se está diseñando el software para un sistema de\n",
        "riego “inteligente”.\n",
        "2.  El programa debe leer el nivel de humedad actual del suelo (un valor de 0 a 100)y decidir qué acción tomar:\n",
        "> no hacer nada,\n",
        "> aplicar un riego ligero o\n",
        "> aplicar un riego profundo, según\n",
        "umbrales predefinidos."
      ],
      "metadata": {
        "id": "pUVaVHfnxPAt"
      }
    },
    {
      "cell_type": "code",
      "source": [
        "# Caso de Ingeniería Agrícola: Lógica de Riego Inteligente (if/elif/else)\n",
        "# Definir los umbrales de humedad\n",
        "# (ej. por debajo de 30% es seco, entre 30% y 70% es óptimo, por encima de 70% es saturado).\n",
        "\n",
        "# Pedir al usuario el nivel de humedad actual.\n",
        "humedad_actual = float(input(\"Ingrese el nivel de humedad actual (en porcentaje): \"))\n",
        "if humedad_actual < 30:\n",
        "    print(\"El suelo está seco. Aplicar riego ligero.\")\n",
        "elif humedad_actual >= 30 and humedad_actual <= 70:\n",
        "    print(\"El suelo está óptimo. No es necesario riego.\")\n",
        "else:\n",
        "    print(\"El suelo está saturado. es nesesario aplicar drenaje.\")"
      ],
      "metadata": {
        "colab": {
          "base_uri": "https://localhost:8080/"
        },
        "id": "7B9FrxVsyWsc",
        "outputId": "e673e8a9-6df6-4d50-fd1e-87adfcc2a971"
      },
      "execution_count": 3,
      "outputs": [
        {
          "output_type": "stream",
          "name": "stdout",
          "text": [
            "Ingrese el nivel de humedad actual (en porcentaje): 100\n",
            "El suelo está saturado. es nesesario aplicar drenaje.\n"
          ]
        }
      ]
    },
    {
      "cell_type": "code",
      "source": [],
      "metadata": {
        "id": "R25zEL_z3Lo9"
      },
      "execution_count": 2,
      "outputs": []
    },
    {
      "cell_type": "markdown",
      "source": [
        "# Situación de Interés en **Ingeniería Agroindustrial**\n",
        "\n",
        "1. En una línea de empaque de frutas, un\n",
        "sensor mide el peso de cada fruta.\n",
        "2.  Se necesita un programa que analice una lista de pesos de un lote y\n",
        "cuente\n",
        "> cuántas frutas cumplen con el estándar de “Exportación” (ej. > 250g), > > cuántas son de “Mercado Nacional” (entre 150g y 250g) y\n",
        " > cuántas se consideran “Rechazo” (< 150g)."
      ],
      "metadata": {
        "id": "m3_jBPiT45vp"
      }
    },
    {
      "cell_type": "code",
      "source": [
        "# Clasificación de Lote (for loop)\n",
        "# Definir una lista con los pesos de las frutas del lote (para simular los datos del sensor).\n",
        "pesos = [100, 95, 150, 250, 300, 280, 300, 123, 111, 213, 400, 350, 456]\n",
        "\n",
        "# Inicializar tres contadores en cero: exportacion, nacional y rechazo.\n",
        "expotartacion = 0\n",
        "nacional = 0\n",
        "rechazo = 0\n",
        "\n",
        "# recorrer la lista de pesos y clasificar cada fruta\n",
        "for peso in pesos:\n",
        "    if peso > 250:\n",
        "        expotartacion += 1\n",
        "    elif peso >= 150 and peso <= 250:\n",
        "        nacional += 1\n",
        "    else:\n",
        "        rechazo += 1\n",
        "\n",
        "# Después de que el bucle termine, imprimir los totales de cada categoría.\n",
        "print(\"Frutas de Exportación:\", expotartacion)\n",
        "print(\"Frutas de Mercado Nacional:\", nacional)\n",
        "print(\"Frutas Rechazadas:\", rechazo)\n",
        "\n"
      ],
      "metadata": {
        "colab": {
          "base_uri": "https://localhost:8080/"
        },
        "id": "Rw3ktyjr45XL",
        "outputId": "c62e304d-09c8-498b-9ef4-866bcbeaa14f"
      },
      "execution_count": 4,
      "outputs": [
        {
          "output_type": "stream",
          "name": "stdout",
          "text": [
            "Frutas de Exportación: 6\n",
            "Frutas de Mercado Nacional: 3\n",
            "Frutas Rechazadas: 4\n"
          ]
        }
      ]
    }
  ]
}