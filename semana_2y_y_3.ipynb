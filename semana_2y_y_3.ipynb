{
  "nbformat": 4,
  "nbformat_minor": 0,
  "metadata": {
    "colab": {
      "provenance": [],
      "authorship_tag": "ABX9TyMdpID0C0oU1ZYZbaljHMLL",
      "include_colab_link": true
    },
    "kernelspec": {
      "name": "python3",
      "display_name": "Python 3"
    },
    "language_info": {
      "name": "python"
    }
  },
  "cells": [
    {
      "cell_type": "markdown",
      "metadata": {
        "id": "view-in-github",
        "colab_type": "text"
      },
      "source": [
        "<a href=\"https://colab.research.google.com/github/jarol19/Prog_Agro_2025_2/blob/main/semana_2y_y_3.ipynb\" target=\"_parent\"><img src=\"https://colab.research.google.com/assets/colab-badge.svg\" alt=\"Open In Colab\"/></a>"
      ]
    },
    {
      "cell_type": "code",
      "execution_count": null,
      "metadata": {
        "id": "hDt7eMxFsLna"
      },
      "outputs": [],
      "source": []
    },
    {
      "cell_type": "markdown",
      "source": [
        "#Situación 1: Clasificador de pH del Suelo\n",
        " El pH del suelo es un factor crítico para la absorción de\n",
        "nutrientes por parte de las plantas. Desarrollarás un programa que recibe un valor de pH e informa al\n",
        "agricultor si el suelo es ácido, neutro o alcalino, ofreciendo una recomendación general."
      ],
      "metadata": {
        "id": "MLfy8uvlsYTv"
      }
    },
    {
      "cell_type": "code",
      "source": [
        "# Explicar al usuario que el programa clasifica el pH del suelo.\n",
        "print(\"este programa clasifica el ph del suelo.\")\n",
        "\n",
        "# Pedir al usuario que ingrese el valor de pH medido (puede ser decimal).\n",
        "pH = float(input(\"ingrese el valor de pH medido: \"))\n",
        "\n",
        "# Utilizar una estructura 'if' para la primera condición: si el pH es menor que 6.5.\n",
        "if pH < 7:\n",
        "    print(\"El suelo es ácido.\")\n",
        "    # Dentro del 'if', mostrar un mensaje indicando que el suelo es \"Ácido\" y recomendarel uso de cal agrícola.\n",
        "    print(\"Es recomendable usar cal relayed.\")\n",
        "elif pH == 7:\n",
        "    print(\"El suelo es neutro.\")\n",
        "elif pH > 7:\n",
        "    print(\"El suelo es alcalino.\")\n",
        "    print(\"Es recomendable el uso de sulfato.\")\n",
        "\n",
        "\n"
      ],
      "metadata": {
        "id": "INi-N9Xhsxl1",
        "colab": {
          "base_uri": "https://localhost:8080/"
        },
        "outputId": "675f6f04-8be5-4796-e867-b9b996407c72"
      },
      "execution_count": 2,
      "outputs": [
        {
          "output_type": "stream",
          "name": "stdout",
          "text": [
            "este programa clasifica el ph del suelo.\n",
            "ingrese el valor de pH medido: 7\n",
            "El suelo es neutro.\n"
          ]
        }
      ]
    },
    {
      "cell_type": "markdown",
      "source": [],
      "metadata": {
        "id": "xDepC3yNyTRB"
      }
    },
    {
      "cell_type": "code",
      "metadata": {
        "id": "2c71ec14"
      },
      "source": [
        "# Pedir al usuario que ingrese el valor de pH medido (puede ser decimal).\n",
        "pH = float(input(\"ingrese el valor de pH medido: \"))"
      ],
      "execution_count": null,
      "outputs": []
    },
    {
      "cell_type": "code",
      "metadata": {
        "id": "7c6e0bbb"
      },
      "source": [
        "# Utilizar una estructura 'if' para la primera condición: si el pH es menor que 6.5.\n",
        "if pH < 7:"
      ],
      "execution_count": null,
      "outputs": []
    },
    {
      "cell_type": "code",
      "metadata": {
        "id": "c7416349"
      },
      "source": [
        "    print(\"El suelo es ácido.\")\n",
        "    # Dentro del 'if', mostrar un mensaje indicando que el suelo es \"Ácido\" y recomendarel uso de cal agrícola.\n",
        "    print(\"Es recomendable usar cal relayed.\")"
      ],
      "execution_count": null,
      "outputs": []
    },
    {
      "cell_type": "code",
      "metadata": {
        "id": "1ae56f6c"
      },
      "source": [
        "elif pH == 7:"
      ],
      "execution_count": null,
      "outputs": []
    },
    {
      "cell_type": "code",
      "metadata": {
        "id": "fdd34fec"
      },
      "source": [
        "    print(\"El suelo es neutro.\")"
      ],
      "execution_count": null,
      "outputs": []
    },
    {
      "cell_type": "code",
      "metadata": {
        "id": "cffde297"
      },
      "source": [
        "elif pH > 7:"
      ],
      "execution_count": null,
      "outputs": []
    },
    {
      "cell_type": "code",
      "metadata": {
        "id": "dd935a39"
      },
      "source": [
        "    print(\"El suelo es alcalino.\")\n",
        "    print(\"Es recomendable el uso de sulfato.\")\n",
        ""
      ],
      "execution_count": null,
      "outputs": []
    },
    {
      "cell_type": "markdown",
      "source": [
        "#Situación 2: Simulación de Crecimiento de un Cultivo\n",
        " Un agrónomo quiere simular el crecimiento\n",
        "en altura de una planta durante 5 semanas. La planta crece a una tasa diferente cada semana. El programa\n",
        "debe solicitar la tasa de crecimiento de cada semana y mostrar la altura total al final.\n"
      ],
      "metadata": {
        "id": "dUieTLiQybm8"
      }
    },
    {
      "cell_type": "code",
      "source": [
        "# Inicializar una variable para la altura total de la planta en cero.\n",
        "altura = 0\n",
        "# Inicializar una lista para almacenar los crecimientos semanales.\n",
        "crecimientos_semanales = []\n",
        "\n",
        "# Mostrar un mensaje que indique que se simulará el crecimiento durante 5 semanas.\n",
        "print(\" simulacion de crecimiento durante 5 semanas\")\n",
        "\n",
        "# Crear un bucle 'for' que se repita 5 veces (una por cada semana).\n",
        "for semana in range(5):\n",
        "   \"\"\" Dentro del bucle, pedir al usuario el crecimiento de la planta para la semana\n",
        "    actual (ej. \"Ingrese el crecimiento en cm para la semana 1:\").\n",
        "    \"\"\"\n",
        "   crecimiento = float(input(f\"Ingrese el crecimiento en cm para la semana {semana + 1}: \"))\n",
        "\n",
        "   # Almacenar el crecimiento semanal en la lista.\n",
        "   crecimientos_semanales.append(crecimiento)\n",
        "\n",
        "   # Actualizar la altura total de la planta sumándole el crecimiento de la semana actual.\n",
        "   altura += crecimiento\n",
        "\n",
        "# Después de que el bucle termine, mostrar la altura total acumulada de la planta.\n",
        "print(f\"La altura total de la plantta despues de 5 semanas es de {altura} cm.\")\n",
        "\n",
        "# Mostrar los crecimientos semanales almacenados.\n",
        "print(f\"Crecimientos semanales: {crecimientos_semanales}\")"
      ],
      "metadata": {
        "colab": {
          "base_uri": "https://localhost:8080/"
        },
        "id": "7SsTf258yslI",
        "outputId": "6a1bc468-4d64-4c7e-928d-2f8429923001"
      },
      "execution_count": 8,
      "outputs": [
        {
          "output_type": "stream",
          "name": "stdout",
          "text": [
            " simulacion de crecimiento durante 5 semanas\n",
            "Ingrese el crecimiento en cm para la semana 1: 11\n",
            "Ingrese el crecimiento en cm para la semana 2: 12\n",
            "Ingrese el crecimiento en cm para la semana 3: 21\n",
            "Ingrese el crecimiento en cm para la semana 4: 23\n",
            "Ingrese el crecimiento en cm para la semana 5: 31\n",
            "La altura total de la plantta despues de 5 semanas es de 98.0 cm.\n",
            "Crecimientos semanales: [11.0, 12.0, 21.0, 23.0, 31.0]\n"
          ]
        }
      ]
    },
    {
      "cell_type": "code",
      "source": [],
      "metadata": {
        "id": "EH1gBY7o43jC"
      },
      "execution_count": null,
      "outputs": []
    }
  ]
}