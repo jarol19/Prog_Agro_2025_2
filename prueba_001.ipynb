{
  "nbformat": 4,
  "nbformat_minor": 0,
  "metadata": {
    "colab": {
      "provenance": [],
      "include_colab_link": true
    },
    "kernelspec": {
      "name": "python3",
      "display_name": "Python 3"
    },
    "language_info": {
      "name": "python"
    }
  },
  "cells": [
    {
      "cell_type": "markdown",
      "metadata": {
        "id": "view-in-github",
        "colab_type": "text"
      },
      "source": [
        "<a href=\"https://colab.research.google.com/github/jarol19/Prog_Agro_2025_2/blob/main/prueba_001.ipynb\" target=\"_parent\"><img src=\"https://colab.research.google.com/assets/colab-badge.svg\" alt=\"Open In Colab\"/></a>"
      ]
    },
    {
      "cell_type": "code",
      "execution_count": null,
      "metadata": {
        "id": "K3u5iPcDvVzK"
      },
      "outputs": [],
      "source": []
    },
    {
      "cell_type": "code",
      "source": [],
      "metadata": {
        "id": "vSxhD0j288P-"
      },
      "execution_count": null,
      "outputs": []
    },
    {
      "cell_type": "markdown",
      "source": [
        "# Calculadora de Costos para Lote de Producción\n",
        "\n",
        "\n",
        "El objetivo es desarrollar una herramienta que calcule los costos de materia prima para producir un lote de un producto procesado, como mermelada o néctar.\n"
      ],
      "metadata": {
        "id": "qlAS1goLwCpa"
      }
    },
    {
      "cell_type": "code",
      "source": [
        "import sys\n",
        "RECETAS = {\n",
        "    \"mermelada_fresa\": {\n",
        "        \"fruta_kg\": 1.1,\n",
        "        \"azucar_kg\": 0.6,\n",
        "        \"pectina_g\": 5\n",
        "    },\n",
        "    \"nectar_mango\": {\n",
        "        \"pulpa_fruta_kg\": 0.5,\n",
        "        \"agua_L\": 0.6,\n",
        "        \"azucar_kg\": 0.1\n",
        "    }\n",
        "}\n",
        "COSTOS_INGREDIENTES = {\n",
        "    \"fruta_kg\": 1.50,\n",
        "    \"azucar_kg\": 0.90,\n",
        "    \"pectina_g\": 0.05,\n",
        "    \"pulpa_fruta_kg\": 1.20,\n",
        "    \"agua_L\": 0.01\n",
        "}\n",
        "def calcular_costo_total(ingredientes_requeridos):\n",
        "    costo_total = 0\n",
        "    for ingrediente, cantidad in ingredientes_requeridos.items():\n",
        "        if ingrediente in COSTOS_INGREDIENTES:\n",
        "            costo_total += cantidad * COSTOS_INGREDIENTES[ingrediente]\n",
        "    return costo_total"
      ],
      "metadata": {
        "id": "NxYgGd7_ymMw"
      },
      "execution_count": null,
      "outputs": []
    }
  ]
}