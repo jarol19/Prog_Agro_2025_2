{
  "nbformat": 4,
  "nbformat_minor": 0,
  "metadata": {
    "colab": {
      "provenance": [],
      "authorship_tag": "ABX9TyOr++RoD7iDxRxfBEZ3i2mK",
      "include_colab_link": true
    },
    "kernelspec": {
      "name": "python3",
      "display_name": "Python 3"
    },
    "language_info": {
      "name": "python"
    }
  },
  "cells": [
    {
      "cell_type": "markdown",
      "metadata": {
        "id": "view-in-github",
        "colab_type": "text"
      },
      "source": [
        "<a href=\"https://colab.research.google.com/github/jarol19/Prog_Agro_2025_2/blob/main/semana_4_y_5_agro.ipynb\" target=\"_parent\"><img src=\"https://colab.research.google.com/assets/colab-badge.svg\" alt=\"Open In Colab\"/></a>"
      ]
    },
    {
      "cell_type": "code",
      "execution_count": null,
      "metadata": {
        "id": "q0G1kqJkxQAq"
      },
      "outputs": [],
      "source": []
    },
    {
      "cell_type": "markdown",
      "metadata": {
        "id": "cd264a13"
      },
      "source": [
        "Las listas, tuplas y diccionarios son estructuras de datos fundamentales en Python utilizadas para almacenar colecciones de elementos.\n",
        "\n",
        "**Listas:**\n",
        "- Son colecciones ordenadas y mutables (se pueden modificar después de su creación).\n",
        "- Se definen utilizando corchetes `[]`.\n",
        "- Permiten elementos duplicados.\n",
        "- Ejemplos: `[1, 2, 3]`, `['apple', 'banana', 'cherry']`\n",
        "\n",
        "**Tuplas:**\n",
        "- Son colecciones ordenadas e inmutables (no se pueden modificar después de su creación).\n",
        "- Se definen utilizando paréntesis `()`.\n",
        "- Permiten elementos duplicados.\n",
        "- Ejemplos: `(1, 2, 3)`, `('apple', 'banana', 'cherry')`\n",
        "\n",
        "**Diccionarios:**\n",
        "- Son colecciones desordenadas y mutables (se pueden modificar después de su creación).\n",
        "- Se definen utilizando llaves `{}` con pares clave-valor.\n",
        "- Las claves deben ser únicas e inmutables (como cadenas, números o tuplas).\n",
        "- No permiten claves duplicadas, pero los valores sí pueden estar duplicados.\n",
        "- Ejemplos: `{'a': 1, 'b': 2}`, `{'name': 'John', 'age': 30}`\n",
        "\n",
        "**Similitudes:**\n",
        "- Todas pueden almacenar colecciones de diferentes tipos de datos (aunque no es una buena práctica mezclar tipos de datos sin una razón específica).\n",
        "- Se pueden iterar sobre ellas (aunque la forma de iteración varía).\n",
        "- Se pueden acceder a los elementos (por índice en listas y tuplas, por clave en diccionarios).\n",
        "\n",
        "**Diferencias:**\n",
        "- **Mutabilidad:** Las listas y diccionarios son mutables, mientras que las tuplas son inmutables. Esta es la diferencia clave y determina si puedes modificar la colección después de crearla.\n",
        "- **Orden:** Las listas y tuplas son ordenadas, manteniendo el orden de inserción. Los diccionarios son desordenados en versiones anteriores de Python, pero en Python 3.7+ mantienen el orden de inserción (aunque aún se consideran \"desordenados\" conceptualmente en comparación con listas y tuplas).\n",
        "- **Acceso a elementos:** Las listas y tuplas se acceden por índice numérico. Los diccionarios se acceden por clave.\n",
        "- **Sintaxis:** Se definen con diferentes tipos de corchetes/paréntesis."
      ]
    },
    {
      "cell_type": "markdown",
      "metadata": {
        "id": "e520b7a4"
      },
      "source": [
        "En Python, una **función** es un bloque de código organizado y reutilizable que realiza una tarea específica. Las funciones ayudan a modularizar el código, haciéndolo más legible, fácil de mantener y depurar.\n",
        "\n",
        "**Uso de funciones:**\n",
        "\n",
        "Se definen utilizando la palabra clave `def`, seguida del nombre de la función, paréntesis `()` (que pueden contener parámetros) y dos puntos `:`. El cuerpo de la función está indentado."
      ]
    },
    {
      "cell_type": "code",
      "metadata": {
        "id": "67d6b1f4"
      },
      "source": [
        "suma = nombre_de_la_funcion(5, 3)\n",
        "print(suma) # Salida: 8"
      ],
      "execution_count": null,
      "outputs": []
    }
  ]
}