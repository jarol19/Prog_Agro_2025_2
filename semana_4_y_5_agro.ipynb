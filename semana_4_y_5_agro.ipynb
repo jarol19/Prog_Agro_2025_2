{
  "nbformat": 4,
  "nbformat_minor": 0,
  "metadata": {
    "colab": {
      "provenance": [],
      "authorship_tag": "ABX9TyNsXJDKtFbNiWymPsX65H1j",
      "include_colab_link": true
    },
    "kernelspec": {
      "name": "python3",
      "display_name": "Python 3"
    },
    "language_info": {
      "name": "python"
    }
  },
  "cells": [
    {
      "cell_type": "markdown",
      "metadata": {
        "id": "view-in-github",
        "colab_type": "text"
      },
      "source": [
        "<a href=\"https://colab.research.google.com/github/jarol19/Prog_Agro_2025_2/blob/main/semana_4_y_5_agro.ipynb\" target=\"_parent\"><img src=\"https://colab.research.google.com/assets/colab-badge.svg\" alt=\"Open In Colab\"/></a>"
      ]
    },
    {
      "cell_type": "code",
      "execution_count": null,
      "metadata": {
        "id": "q0G1kqJkxQAq"
      },
      "outputs": [],
      "source": []
    },
    {
      "cell_type": "markdown",
      "metadata": {
        "id": "cd264a13"
      },
      "source": [
        "Las listas, tuplas y diccionarios son estructuras de datos fundamentales en Python utilizadas para almacenar colecciones de elementos.\n",
        "\n",
        "**Listas:**\n",
        "- Son colecciones ordenadas y mutables (se pueden modificar después de su creación).\n",
        "- Se definen utilizando corchetes `[]`.\n",
        "- Permiten elementos duplicados.\n",
        "- Ejemplos: `[1, 2, 3]`, `['apple', 'banana', 'cherry']`\n",
        "\n",
        "**Tuplas:**\n",
        "- Son colecciones ordenadas e inmutables (no se pueden modificar después de su creación).\n",
        "- Se definen utilizando paréntesis `()`.\n",
        "- Permiten elementos duplicados.\n",
        "- Ejemplos: `(1, 2, 3)`, `('apple', 'banana', 'cherry')`\n",
        "\n",
        "**Diccionarios:**\n",
        "- Son colecciones desordenadas y mutables (se pueden modificar después de su creación).\n",
        "- Se definen utilizando llaves `{}` con pares clave-valor.\n",
        "- Las claves deben ser únicas e inmutables (como cadenas, números o tuplas).\n",
        "- No permiten claves duplicadas, pero los valores sí pueden estar duplicados.\n",
        "- Ejemplos: `{'a': 1, 'b': 2}`, `{'name': 'John', 'age': 30}`\n",
        "\n",
        "**Similitudes:**\n",
        "- Todas pueden almacenar colecciones de diferentes tipos de datos (aunque no es una buena práctica mezclar tipos de datos sin una razón específica).\n",
        "- Se pueden iterar sobre ellas (aunque la forma de iteración varía).\n",
        "- Se pueden acceder a los elementos (por índice en listas y tuplas, por clave en diccionarios).\n",
        "\n",
        "**Diferencias:**\n",
        "- **Mutabilidad:** Las listas y diccionarios son mutables, mientras que las tuplas son inmutables. Esta es la diferencia clave y determina si puedes modificar la colección después de crearla.\n",
        "- **Orden:** Las listas y tuplas son ordenadas, manteniendo el orden de inserción. Los diccionarios son desordenados en versiones anteriores de Python, pero en Python 3.7+ mantienen el orden de inserción (aunque aún se consideran \"desordenados\" conceptualmente en comparación con listas y tuplas).\n",
        "- **Acceso a elementos:** Las listas y tuplas se acceden por índice numérico. Los diccionarios se acceden por clave.\n",
        "- **Sintaxis:** Se definen con diferentes tipos de corchetes/paréntesis."
      ]
    },
    {
      "cell_type": "markdown",
      "metadata": {
        "id": "e520b7a4"
      },
      "source": [
        "En Python, una **función** es un bloque de código organizado y reutilizable que realiza una tarea específica. Las funciones ayudan a modularizar el código, haciéndolo más legible, fácil de mantener y depurar.\n",
        "\n",
        "**Uso de funciones:**\n",
        "\n",
        "Se definen utilizando la palabra clave `def`, seguida del nombre de la función, paréntesis `()` (que pueden contener parámetros) y dos puntos `:`. El cuerpo de la función está indentado."
      ]
    },
    {
      "cell_type": "code",
      "metadata": {
        "id": "67d6b1f4"
      },
      "source": [
        "suma = nombre_de_la_funcion(5, 3)\n",
        "print(suma) # Salida: 8"
      ],
      "execution_count": null,
      "outputs": []
    },
    {
      "cell_type": "markdown",
      "source": [
        "# Situación de Interés en Ingeniería Agrícola fi:\n",
        "\n",
        " Un agrónomo consultor necesita una herramienta\n",
        "rápida para aconsejar a los agricultores sobre qué cultivos sembrar. Se requiere un programa que\n",
        "1\n",
        "almacene información de varios cultivos (nombre, mes ideal de siembra, necesidad de agua) y que, al\n",
        "ingresar el nombre de un mes, recomiende qué cultivos son adecuados para sembrar en ese período.\n",
        "\n",
        "Caso de Ingeniería Agrícola: Planificador de Cultivos (Listas y Funciones)\n",
        "• Paso a Paso del Código:\n",
        "1. Crear una lista donde cada elemento sea un diccionario. Cada diccionario representará un\n",
        "cultivo y tendrá claves como nombre, mes_siembra y riego.\n",
        "2. Crear una función llamada recomendar_cultivos. Esta función recibirá dos parámetros: la\n",
        "lista completa de cultivos y el mes actual.\n",
        "3. Dentro de la función, usar un bucle for para recorrer la lista de cultivos.\n",
        "4. En cada iteración, usar un if para comprobar si el mes_siembra del cultivo coincide con el mes\n",
        "proporcionado.\n",
        "5. Si coinciden, añadir el nombre del cultivo a una nueva lista de recomendados.\n",
        "6. Al final, la función debe devolver la lista de cultivos recomendados.\n",
        "7. En el programa principal, pedir al usuario el mes y llamar a la función para obtener e imprimir\n",
        "las recomendaciones.\n"
      ],
      "metadata": {
        "id": "sPsbj2E11hLm"
      }
    },
    {
      "cell_type": "code",
      "source": [],
      "metadata": {
        "id": "Zd8Fbnnd2Hy_"
      },
      "execution_count": null,
      "outputs": []
    },
    {
      "cell_type": "code",
      "metadata": {
        "colab": {
          "base_uri": "https://localhost:8080/"
        },
        "id": "a4a7833e",
        "outputId": "8c78ddf3-0d3e-4325-c21a-f07ef37a28dc"
      },
      "source": [
        "# 1. Crear una lista donde cada elemento sea un diccionario para representar cultivos\n",
        "cultivos = [\n",
        "    {\"nombre\": \"Maíz\", \"mes_siembra\": \"Abril\", \"riego\": \"Moderado\"},\n",
        "    {\"nombre\": \"Trigo\", \"mes_siembra\": \"Octubre\", \"riego\": \"Bajo\"},\n",
        "    {\"nombre\": \"Tomate\", \"mes_siembra\": \"Marzo\", \"riego\": \"Alto\"},\n",
        "    {\"nombre\": \"Lechuga\", \"mes_siembra\": \"Febrero\", \"riego\": \"Moderado\"},\n",
        "    {\"nombre\": \"Frijol\", \"mes_siembra\": \"Mayo\", \"riego\": \"Moderado\"},\n",
        "    {\"nombre\": \"Papa\", \"mes_siembra\": \"Enero\", \"riego\": \"Alto\"},\n",
        "]\n",
        "\n",
        "# 2. Crear una función llamada recomendar_cultivos\n",
        "def recomendar_cultivos(lista_cultivos, mes_actual):\n",
        "    \"\"\"\n",
        "    Recomienda cultivos adecuados para sembrar en un mes específico.\n",
        "\n",
        "    Args:\n",
        "        lista_cultivos: Una lista de diccionarios, donde cada diccionario representa un cultivo.\n",
        "        mes_actual: Una cadena que representa el mes para el que se buscan recomendaciones.\n",
        "\n",
        "    Returns:\n",
        "        Una lista de nombres de cultivos recomendados para el mes dado.\n",
        "    \"\"\"\n",
        "    cultivos_recomendados = []\n",
        "    # 3. Usar un bucle for para recorrer la lista de cultivos\n",
        "    for cultivo in lista_cultivos:\n",
        "        # 4. Usar un if para comprobar si el mes_siembra del cultivo coincide con el mes proporcionado\n",
        "        if cultivo[\"mes_siembra\"].lower() == mes_actual.lower():\n",
        "            # 5. Si coinciden, añadir el nombre del cultivo a una nueva lista de recomendados\n",
        "            cultivos_recomendados.append(cultivo[\"nombre\"])\n",
        "    # 6. Al final, la función debe devolver la lista de cultivos recomendados\n",
        "    return cultivos_recomendados\n",
        "\n",
        "# 7. En el programa principal, pedir al usuario el mes y llamar a la función\n",
        "if __name__ == \"__main__\":\n",
        "    mes_ingresado = input(\"Ingrese el mes actual para recibir recomendaciones de cultivo: \")\n",
        "    recomendaciones = recomendar_cultivos(cultivos, mes_ingresado)\n",
        "\n",
        "    if recomendaciones:\n",
        "        print(f\"\\nCultivos recomendados para sembrar en {mes_ingresado}:\")\n",
        "        for cultivo in recomendaciones:\n",
        "            print(f\"- {cultivo}\")\n",
        "    else:\n",
        "        print(f\"\\nNo se encontraron cultivos recomendados para sembrar en {mes_ingresado}.\")"
      ],
      "execution_count": 2,
      "outputs": [
        {
          "output_type": "stream",
          "name": "stdout",
          "text": [
            "Ingrese el mes actual para recibir recomendaciones de cultivo: noviembre\n",
            "\n",
            "No se encontraron cultivos recomendados para sembrar en noviembre.\n"
          ]
        }
      ]
    }
  ]
}