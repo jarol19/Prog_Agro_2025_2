{
  "nbformat": 4,
  "nbformat_minor": 0,
  "metadata": {
    "colab": {
      "provenance": [],
      "authorship_tag": "ABX9TyM9zOKlRN/UDxRbmQCF8kgo",
      "include_colab_link": true
    },
    "kernelspec": {
      "name": "python3",
      "display_name": "Python 3"
    },
    "language_info": {
      "name": "python"
    }
  },
  "cells": [
    {
      "cell_type": "markdown",
      "metadata": {
        "id": "view-in-github",
        "colab_type": "text"
      },
      "source": [
        "<a href=\"https://colab.research.google.com/github/jarol19/Prog_Agro_2025_2/blob/main/semana_4_y_5_agro.ipynb\" target=\"_parent\"><img src=\"https://colab.research.google.com/assets/colab-badge.svg\" alt=\"Open In Colab\"/></a>"
      ]
    },
    {
      "cell_type": "code",
      "execution_count": null,
      "metadata": {
        "id": "q0G1kqJkxQAq"
      },
      "outputs": [],
      "source": []
    },
    {
      "cell_type": "markdown",
      "metadata": {
        "id": "cd264a13"
      },
      "source": [
        "Las listas, tuplas y diccionarios son estructuras de datos fundamentales en Python utilizadas para almacenar colecciones de elementos.\n",
        "\n",
        "**Listas:**\n",
        "- Son colecciones ordenadas y mutables (se pueden modificar después de su creación).\n",
        "- Se definen utilizando corchetes `[]`.\n",
        "- Permiten elementos duplicados.\n",
        "- Ejemplos: `[1, 2, 3]`, `['apple', 'banana', 'cherry']`\n",
        "\n",
        "**Tuplas:**\n",
        "- Son colecciones ordenadas e inmutables (no se pueden modificar después de su creación).\n",
        "- Se definen utilizando paréntesis `()`.\n",
        "- Permiten elementos duplicados.\n",
        "- Ejemplos: `(1, 2, 3)`, `('apple', 'banana', 'cherry')`\n",
        "\n",
        "**Diccionarios:**\n",
        "- Son colecciones desordenadas y mutables (se pueden modificar después de su creación).\n",
        "- Se definen utilizando llaves `{}` con pares clave-valor.\n",
        "- Las claves deben ser únicas e inmutables (como cadenas, números o tuplas).\n",
        "- No permiten claves duplicadas, pero los valores sí pueden estar duplicados.\n",
        "- Ejemplos: `{'a': 1, 'b': 2}`, `{'name': 'John', 'age': 30}`\n",
        "\n",
        "**Similitudes:**\n",
        "- Todas pueden almacenar colecciones de diferentes tipos de datos (aunque no es una buena práctica mezclar tipos de datos sin una razón específica).\n",
        "- Se pueden iterar sobre ellas (aunque la forma de iteración varía).\n",
        "- Se pueden acceder a los elementos (por índice en listas y tuplas, por clave en diccionarios).\n",
        "\n",
        "**Diferencias:**\n",
        "- **Mutabilidad:** Las listas y diccionarios son mutables, mientras que las tuplas son inmutables. Esta es la diferencia clave y determina si puedes modificar la colección después de crearla.\n",
        "- **Orden:** Las listas y tuplas son ordenadas, manteniendo el orden de inserción. Los diccionarios son desordenados en versiones anteriores de Python, pero en Python 3.7+ mantienen el orden de inserción (aunque aún se consideran \"desordenados\" conceptualmente en comparación con listas y tuplas).\n",
        "- **Acceso a elementos:** Las listas y tuplas se acceden por índice numérico. Los diccionarios se acceden por clave.\n",
        "- **Sintaxis:** Se definen con diferentes tipos de corchetes/paréntesis."
      ]
    },
    {
      "cell_type": "markdown",
      "metadata": {
        "id": "e520b7a4"
      },
      "source": [
        "En Python, una **función** es un bloque de código organizado y reutilizable que realiza una tarea específica. Las funciones ayudan a modularizar el código, haciéndolo más legible, fácil de mantener y depurar.\n",
        "\n",
        "**Uso de funciones:**\n",
        "\n",
        "Se definen utilizando la palabra clave `def`, seguida del nombre de la función, paréntesis `()` (que pueden contener parámetros) y dos puntos `:`. El cuerpo de la función está indentado."
      ]
    },
    {
      "cell_type": "code",
      "metadata": {
        "id": "67d6b1f4"
      },
      "source": [
        "suma = nombre_de_la_funcion(5, 3)\n",
        "print(suma) # Salida: 8"
      ],
      "execution_count": null,
      "outputs": []
    },
    {
      "cell_type": "markdown",
      "source": [
        "# Situación de Interés en Ingeniería Agrícola fi:\n",
        "\n",
        " Un agrónomo consultor necesita una herramienta\n",
        "rápida para aconsejar a los agricultores sobre qué cultivos sembrar. Se requiere un programa que\n",
        "1\n",
        "almacene información de varios cultivos (nombre, mes ideal de siembra, necesidad de agua) y que, al\n",
        "ingresar el nombre de un mes, recomiende qué cultivos son adecuados para sembrar en ese período.\n",
        "\n",
        "Caso de Ingeniería Agrícola: Planificador de Cultivos (Listas y Funciones)\n",
        "• Paso a Paso del Código:\n",
        "1. Crear una lista donde cada elemento sea un diccionario. Cada diccionario representará un\n",
        "cultivo y tendrá claves como nombre, mes_siembra y riego.\n",
        "2. Crear una función llamada recomendar_cultivos. Esta función recibirá dos parámetros: la\n",
        "lista completa de cultivos y el mes actual.\n",
        "3. Dentro de la función, usar un bucle for para recorrer la lista de cultivos.\n",
        "4. En cada iteración, usar un if para comprobar si el mes_siembra del cultivo coincide con el mes\n",
        "proporcionado.\n",
        "5. Si coinciden, añadir el nombre del cultivo a una nueva lista de recomendados.\n",
        "6. Al final, la función debe devolver la lista de cultivos recomendados.\n",
        "7. En el programa principal, pedir al usuario el mes y llamar a la función para obtener e imprimir\n",
        "las recomendaciones.\n"
      ],
      "metadata": {
        "id": "sPsbj2E11hLm"
      }
    },
    {
      "cell_type": "code",
      "source": [],
      "metadata": {
        "id": "Zd8Fbnnd2Hy_"
      },
      "execution_count": null,
      "outputs": []
    },
    {
      "cell_type": "code",
      "metadata": {
        "colab": {
          "base_uri": "https://localhost:8080/"
        },
        "id": "a4a7833e",
        "outputId": "8c78ddf3-0d3e-4325-c21a-f07ef37a28dc"
      },
      "source": [
        "# 1. Crear una lista donde cada elemento sea un diccionario para representar cultivos\n",
        "cultivos = [\n",
        "    {\"nombre\": \"Maíz\", \"mes_siembra\": \"Abril\", \"riego\": \"Moderado\"},\n",
        "    {\"nombre\": \"Trigo\", \"mes_siembra\": \"Octubre\", \"riego\": \"Bajo\"},\n",
        "    {\"nombre\": \"Tomate\", \"mes_siembra\": \"Marzo\", \"riego\": \"Alto\"},\n",
        "    {\"nombre\": \"Lechuga\", \"mes_siembra\": \"Febrero\", \"riego\": \"Moderado\"},\n",
        "    {\"nombre\": \"Frijol\", \"mes_siembra\": \"Mayo\", \"riego\": \"Moderado\"},\n",
        "    {\"nombre\": \"Papa\", \"mes_siembra\": \"Enero\", \"riego\": \"Alto\"},\n",
        "]\n",
        "\n",
        "# 2. Crear una función llamada recomendar_cultivos\n",
        "def recomendar_cultivos(lista_cultivos, mes_actual):\n",
        "    \"\"\"\n",
        "    Recomienda cultivos adecuados para sembrar en un mes específico.\n",
        "\n",
        "    Args:\n",
        "        lista_cultivos: Una lista de diccionarios, donde cada diccionario representa un cultivo.\n",
        "        mes_actual: Una cadena que representa el mes para el que se buscan recomendaciones.\n",
        "\n",
        "    Returns:\n",
        "        Una lista de nombres de cultivos recomendados para el mes dado.\n",
        "    \"\"\"\n",
        "    cultivos_recomendados = []\n",
        "    # 3. Usar un bucle for para recorrer la lista de cultivos\n",
        "    for cultivo in lista_cultivos:\n",
        "        # 4. Usar un if para comprobar si el mes_siembra del cultivo coincide con el mes proporcionado\n",
        "        if cultivo[\"mes_siembra\"].lower() == mes_actual.lower():\n",
        "            # 5. Si coinciden, añadir el nombre del cultivo a una nueva lista de recomendados\n",
        "            cultivos_recomendados.append(cultivo[\"nombre\"])\n",
        "    # 6. Al final, la función debe devolver la lista de cultivos recomendados\n",
        "    return cultivos_recomendados\n",
        "\n",
        "# 7. En el programa principal, pedir al usuario el mes y llamar a la función\n",
        "if __name__ == \"__main__\":\n",
        "    mes_ingresado = input(\"Ingrese el mes actual para recibir recomendaciones de cultivo: \")\n",
        "    recomendaciones = recomendar_cultivos(cultivos, mes_ingresado)\n",
        "\n",
        "    if recomendaciones:\n",
        "        print(f\"\\nCultivos recomendados para sembrar en {mes_ingresado}:\")\n",
        "        for cultivo in recomendaciones:\n",
        "            print(f\"- {cultivo}\")\n",
        "    else:\n",
        "        print(f\"\\nNo se encontraron cultivos recomendados para sembrar en {mes_ingresado}.\")"
      ],
      "execution_count": 2,
      "outputs": [
        {
          "output_type": "stream",
          "name": "stdout",
          "text": [
            "Ingrese el mes actual para recibir recomendaciones de cultivo: noviembre\n",
            "\n",
            "No se encontraron cultivos recomendados para sembrar en noviembre.\n"
          ]
        }
      ]
    },
    {
      "cell_type": "markdown",
      "metadata": {
        "id": "3aba64b1"
      },
      "source": [
        "Este código Python implementa un **Planificador de Cultivos** simple, utilizando listas y diccionarios para almacenar información y una función para realizar recomendaciones.\n",
        "\n",
        "Aquí te explico cada parte del código:\n",
        "\n",
        "1.  **Lista de Cultivos (`cultivos`)**:\n",
        "    *   Se crea una lista llamada `cultivos`.\n",
        "    *   Cada elemento dentro de esta lista es un **diccionario**.\n",
        "    *   Cada diccionario representa un cultivo individual y contiene información sobre él con las siguientes claves:\n",
        "        *   `\"nombre\"`: El nombre del cultivo (ej: \"Maíz\").\n",
        "        *   `\"mes_siembra\"`: El mes ideal para sembrar este cultivo (ej: \"Abril\").\n",
        "        *   `\"riego\"`: La necesidad de riego del cultivo (ej: \"Moderado\").\n",
        "\n",
        "2.  **Función `recomendar_cultivos(lista_cultivos, mes_actual)`**:\n",
        "    *   Se define una función llamada `recomendar_cultivos` que toma dos argumentos:\n",
        "        *   `lista_cultivos`: La lista de diccionarios que contiene la información de todos los cultivos.\n",
        "        *   `mes_actual`: Una cadena que representa el mes para el que se desean obtener recomendaciones.\n",
        "    *   Dentro de la función, se inicializa una lista vacía llamada `cultivos_recomendados`. Esta lista almacenará los nombres de los cultivos que se recomienden.\n",
        "    *   Se utiliza un bucle `for` para iterar sobre cada `cultivo` (cada diccionario) en la `lista_cultivos`.\n",
        "    *   Dentro del bucle, se utiliza una sentencia `if` para comparar el valor asociado a la clave `\"mes_siembra\"` del diccionario `cultivo` con el `mes_actual` proporcionado. Se usa `.lower()` en ambos para hacer la comparación insensible a mayúsculas y minúsculas (así \"Abril\" y \"abril\" se consideran iguales).\n",
        "    *   Si el mes de siembra del cultivo coincide con el `mes_actual`, el nombre del cultivo (el valor asociado a la clave `\"nombre\"`) se añade a la lista `cultivos_recomendados` usando `.append()`.\n",
        "    *   Finalmente, la función devuelve la lista `cultivos_recomendados` que contiene los nombres de todos los cultivos adecuados para sembrar en el `mes_actual`.\n",
        "\n",
        "3.  **Programa Principal (`if __name__ == \"__main__\":`)**:\n",
        "    *   Este bloque de código se ejecuta solo cuando el script se corre directamente (no cuando se importa como módulo).\n",
        "    *   Se le pide al usuario que ingrese el mes actual utilizando la función `input()`. El valor ingresado se almacena en la variable `mes_ingresado`.\n",
        "    *   Se llama a la función `recomendar_cultivos`, pasándole la lista `cultivos` y el `mes_ingresado` por el usuario. El resultado (la lista de recomendaciones) se guarda en la variable `recomendaciones`.\n",
        "    *   Se verifica si la lista `recomendaciones` no está vacía (`if recomendaciones:`).\n",
        "        *   Si hay recomendaciones, se imprime un mensaje indicando los cultivos recomendados para el mes ingresado y luego se itera sobre la lista `recomendaciones` para imprimir cada cultivo con un guion.\n",
        "        *   Si la lista `recomendaciones` está vacía (no se encontraron cultivos para ese mes), se imprime un mensaje indicando que no se encontraron cultivos recomendados para ese mes.\n",
        "\n",
        "En resumen, el código define una base de datos de cultivos con sus meses de siembra y luego permite al usuario ingresar un mes para obtener una lista de los cultivos que son ideales para sembrar en ese período, haciendo uso de la iteración sobre una lista de diccionarios y una función para encapsular la lógica de recomendación."
      ]
    },
    {
      "cell_type": "markdown",
      "source": [
        "# Situación 2: Función para Validar Parámetros de Calidad\n",
        "\n",
        " Una planta recibe lotes de fruta y debe\n",
        "validar si cumplen con los parámetros de pH y grados Brix para ser aceptados. Crearás una función que\n",
        "centralice esta lógica de validación.\n",
        "• Paso a Paso del Código (Guía para el Notebook)\n",
        "1. # Definir una función 'validar_lote' que tome dos parámetros: 'ph' y 'brix'.\n",
        "2. # Dentro de la función, usar una estructura 'if' para verificar si el pH está\n",
        "entre 3.5 y 4.5 Y si los grados Brix son mayores a 12.\n",
        "3. # Si ambas condiciones se cumplen, la función debe devolver el valor booleano\n",
        "True.\n",
        "4. # De lo contrario (else), la función debe devolver el valor booleano False.\n",
        "5. # En el programa principal, pedir al usuario el pH y los grados Brix del lote\n",
        "actual.\n",
        "6. # Llamar a la función 'validar_lote' con los datos ingresados y guardar el\n",
        "resultado (True/False) en una variable.\n",
        "7. # Usar un 'if' en el programa principal para comprobar el valor de esa variable.\n",
        "8. # Si la variable es True, imprimir \"Lote APROBADO\". Si es False, imprimir \"Lote\n",
        "RECHAZADO\".\n"
      ],
      "metadata": {
        "id": "f-zXrGp560F3"
      }
    },
    {
      "cell_type": "code",
      "metadata": {
        "colab": {
          "base_uri": "https://localhost:8080/"
        },
        "id": "8757fe0e",
        "outputId": "c95fd784-2f1f-4187-b6bb-3c6a3f27bd7a"
      },
      "source": [
        "# 1. Definir una función 'validar_lote' que tome dos parámetros: 'ph' y 'brix'.\n",
        "def validar_lote(ph, brix):\n",
        "    \"\"\"\n",
        "    Valida si un lote de fruta cumple con los parámetros de pH y grados Brix.\n",
        "\n",
        "    Args:\n",
        "        ph: El valor de pH del lote.\n",
        "        brix: Los grados Brix del lote.\n",
        "\n",
        "    Returns:\n",
        "        True si el lote es aprobado (pH entre 3.5 y 4.5, y Brix > 12), False de lo contrario.\n",
        "    \"\"\"\n",
        "    # 2. Dentro de la función, usar una estructura 'if' para verificar si el pH está\n",
        "    # entre 3.5 y 4.5 Y si los grados Brix son mayores a 12.\n",
        "    if 3.5 <= ph <= 4.5 and brix > 12:\n",
        "        # 3. Si ambas condiciones se cumplen, la función debe devolver el valor booleano True.\n",
        "        return True\n",
        "    else:\n",
        "        # 4. De lo contrario (else), la función debe devolver el valor booleano False.\n",
        "        return False\n",
        "\n",
        "# 5. En el programa principal, pedir al usuario el pH y los grados Brix del lote actual.\n",
        "if __name__ == \"__main__\":\n",
        "    try:\n",
        "        ph_lote = float(input(\"Ingrese el valor de pH del lote: \"))\n",
        "        brix_lote = float(input(\"Ingrese los grados Brix del lote: \"))\n",
        "\n",
        "        # 6. Llamar a la función 'validar_lote' con los datos ingresados y guardar el\n",
        "        # resultado (True/False) en una variable.\n",
        "        aprobado = validar_lote(ph_lote, brix_lote)\n",
        "\n",
        "        # 7. Usar un 'if' en el programa principal para comprobar el valor de esa variable.\n",
        "        # 8. Si la variable es True, imprimir \"Lote APROBADO\". Si es False, imprimir \"Lote RECHAZADO\".\n",
        "        if aprobado:\n",
        "            print(\"Lote APROBADO\")\n",
        "        else:\n",
        "            print(\"Lote RECHAZADO\")\n",
        "    except ValueError:\n",
        "        print(\"Entrada inválida. Por favor, ingrese valores numéricos para pH y Brix.\")"
      ],
      "execution_count": 5,
      "outputs": [
        {
          "output_type": "stream",
          "name": "stdout",
          "text": [
            "Ingrese el valor de pH del lote: 4\n",
            "Ingrese los grados Brix del lote: 13\n",
            "Lote APROBADO\n"
          ]
        }
      ]
    },
    {
      "cell_type": "code",
      "source": [],
      "metadata": {
        "id": "ttJad97F78gr"
      },
      "execution_count": null,
      "outputs": []
    },
    {
      "cell_type": "markdown",
      "metadata": {
        "id": "efdf6f68"
      },
      "source": [
        "Este código Python implementa una función simple para validar si un lote de fruta cumple con ciertos parámetros de calidad (pH y grados Brix).\n",
        "\n",
        "Aquí te explico cada parte del código:\n",
        "\n",
        "1.  **Definición de la función `validar_lote(ph, brix)`**:\n",
        "    *   Se define una función llamada `validar_lote` que acepta dos argumentos: `ph` (para el valor de pH) y `brix` (para los grados Brix).\n",
        "    *   La docstring (el texto entre triples comillas) explica brevemente qué hace la función, sus argumentos (`Args`) y lo que devuelve (`Returns`).\n",
        "\n",
        "2.  **Estructura Condicional `if 3.5 <= ph <= 4.5 and brix > 12:`**:\n",
        "    *   Dentro de la función, se utiliza una sentencia `if` para comprobar si se cumplen dos condiciones simultáneamente:\n",
        "        *   `3.5 <= ph <= 4.5`: Verifica si el valor de `ph` está dentro del rango de 3.5 a 4.5 (inclusive).\n",
        "        *   `brix > 12`: Verifica si el valor de `brix` es mayor que 12.\n",
        "    *   El operador lógico `and` asegura que ambas condiciones deben ser verdaderas para que la sentencia `if` se cumpla.\n",
        "\n",
        "3.  **Retorno `True`**:\n",
        "    *   Si ambas condiciones en la sentencia `if` son verdaderas (el pH está en el rango correcto Y los grados Brix son mayores que 12), la función devuelve el valor booleano `True`. Esto indica que el lote es aprobado.\n",
        "\n",
        "4.  **Bloque `else` y Retorno `False`**:\n",
        "    *   Si la condición en la sentencia `if` no se cumple (es decir, el pH no está en el rango o los grados Brix no son mayores que 12, o ambas cosas), se ejecuta el bloque `else`.\n",
        "    *   Dentro del bloque `else`, la función devuelve el valor booleano `False`. Esto indica que el lote es rechazado.\n",
        "\n",
        "5.  **Programa Principal (`if __name__ == \"__main__\":`)**:\n",
        "    *   Este bloque de código se ejecuta solo cuando el script se corre directamente.\n",
        "    *   Se utiliza un bloque `try...except ValueError` para manejar posibles errores si el usuario ingresa algo que no sea un número.\n",
        "    *   Dentro del `try`:\n",
        "        *   Se le pide al usuario que ingrese el valor de pH y los grados Brix utilizando `input()`.\n",
        "        *   Se convierten las entradas del usuario a números flotantes (`float()`) para poder realizar comparaciones numéricas.\n",
        "        *   Se llama a la función `validar_lote` con los valores ingresados por el usuario y el resultado (True o False) se almacena en la variable `aprobado`.\n",
        "        *   Se utiliza una sentencia `if aprobado:` para verificar el valor de la variable `aprobado`.\n",
        "        *   Si `aprobado` es `True`, se imprime \"Lote APROBADO\".\n",
        "        *   Si `aprobado` es `False`, se ejecuta el bloque `else` y se imprime \"Lote RECHAZADO\".\n",
        "    *   El bloque `except ValueError`:\n",
        "        *   Si ocurre un `ValueError` (por ejemplo, si el usuario ingresa texto en lugar de números), se imprime un mensaje de error indicando que la entrada es inválida.\n",
        "\n",
        "En resumen, este código define una regla de validación de calidad en una función reutilizable y luego, en el programa principal, interactúa con el usuario para obtener datos, aplica la regla de validación y muestra el resultado de aprobación o rechazo del lote."
      ]
    },
    {
      "cell_type": "markdown",
      "metadata": {
        "id": "cc181fb7"
      },
      "source": [
        "En Python, el bloque `try...except` se utiliza para manejar errores o excepciones que pueden ocurrir durante la ejecución de un programa. Permite que tu código \"intente\" ejecutar una sección potencialmente problemática y, si ocurre un error, \"capture\" esa excepción para manejarla de manera controlada en lugar de que el programa falle abruptamente.\n",
        "\n",
        "Aquí te explico sus partes:\n",
        "\n",
        "1.  **`try:`**: Este bloque contiene el código que quieres intentar ejecutar. Es el código donde esperas que pueda ocurrir una excepción (un error). Si no ocurre ninguna excepción dentro del bloque `try`, el código dentro del bloque `except` se ignora.\n",
        "\n",
        "2.  **`except [TipoDeError]:`**: Este bloque especifica cómo manejar un tipo particular de excepción si ocurre dentro del bloque `try`.\n",
        "    *   Puedes especificar un tipo de error específico (como `ValueError`, `TypeError`, `FileNotFoundError`, etc.) para capturar solo ese tipo de error.\n",
        "    *   Si no especificas un tipo de error (solo `except:`), capturará cualquier tipo de excepción que ocurra en el bloque `try`. Esto generalmente no se recomienda, ya que puede ocultar errores inesperados.\n",
        "    *   Puedes tener múltiples bloques `except` para manejar diferentes tipos de errores de manera distinta.\n",
        "\n",
        "**¿Por qué es importante usar `try...except`?**\n",
        "\n",
        "*   **Evitar que el programa se caiga:** Si ocurre un error que no se maneja, el programa se detendrá. `try...except` te permite capturar esos errores y tomar medidas alternativas.\n",
        "*   **Manejo elegante de errores:** En lugar de mensajes de error crípticos para el usuario, puedes proporcionar mensajes más amigables o realizar acciones de limpieza.\n",
        "*   **Control del flujo del programa:** Te permite definir qué sucede si algo sale mal, manteniendo el control sobre la ejecución del código.\n",
        "\n",
        "**Ejemplo simple:**"
      ]
    }
  ]
}